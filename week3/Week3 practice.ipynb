{
 "cells": [
  {
   "cell_type": "markdown",
   "id": "2f57e894",
   "metadata": {},
   "source": [
    "## Introduction to python Email Library"
   ]
  },
  {
   "cell_type": "code",
   "execution_count": 1,
   "id": "4cc7fdc3",
   "metadata": {},
   "outputs": [
    {
     "name": "stdout",
     "output_type": "stream",
     "text": [
      "\n",
      "\n"
     ]
    }
   ],
   "source": [
    "from email.message import EmailMessage\n",
    "message = EmailMessage()\n",
    "print(message)"
   ]
  },
  {
   "cell_type": "code",
   "execution_count": 2,
   "id": "4c101dba",
   "metadata": {},
   "outputs": [
    {
     "name": "stdout",
     "output_type": "stream",
     "text": [
      "From: fezekannagha@gmail.com\n",
      "To: fezekannagha@gmail.com\n",
      "\n",
      "\n"
     ]
    }
   ],
   "source": [
    "sender = \"fezekannagha@gmail.com\"\n",
    "recipient = \"fezekannagha@gmail.com\"\n",
    "message['From'] = sender\n",
    "message['To'] = recipient\n",
    "print(message)"
   ]
  },
  {
   "cell_type": "code",
   "execution_count": 3,
   "id": "ca7e3b22",
   "metadata": {},
   "outputs": [
    {
     "name": "stdout",
     "output_type": "stream",
     "text": [
      "From: fezekannagha@gmail.com\n",
      "To: fezekannagha@gmail.com\n",
      "Subject: Greeting from fezekannagha@gmail.com to fezekannagha@gmail.com!\n",
      "\n",
      "\n"
     ]
    }
   ],
   "source": [
    "message['Subject'] = 'Greeting from {} to {}!'.format(sender, recipient)\n",
    "print(message)"
   ]
  },
  {
   "cell_type": "code",
   "execution_count": 5,
   "id": "8e7e101f",
   "metadata": {
    "scrolled": true
   },
   "outputs": [
    {
     "name": "stdout",
     "output_type": "stream",
     "text": [
      "From: fezekannagha@gmail.com\n",
      "To: fezekannagha@gmail.com\n",
      "Subject: Greeting from fezekannagha@gmail.com to fezekannagha@gmail.com!\n",
      "MIME-Version: 1.0\n",
      "Content-Type: text/plain; charset=\"utf-8\"\n",
      "Content-Transfer-Encoding: 7bit\n",
      "\n",
      "Hey there!\n",
      "I'm learning to send emails using python!\n",
      "\n"
     ]
    }
   ],
   "source": [
    "body = \"\"\"Hey there!\n",
    "I'm learning to send emails using python!\"\"\"\n",
    "message.set_content(body)\n",
    "print(message)"
   ]
  },
  {
   "cell_type": "code",
   "execution_count": 23,
   "id": "29ef645a",
   "metadata": {},
   "outputs": [
    {
     "name": "stdout",
     "output_type": "stream",
     "text": [
      "image/png\n"
     ]
    }
   ],
   "source": [
    "import os.path\n",
    "attachment_path = \"random_image.png\"\n",
    "attachment_filename = os.path.basename(attachment_path)\n",
    "import mimetypes\n",
    "mime_type, _ = mimetypes.guess_type(attachment_path)\n",
    "print(mime_type)"
   ]
  },
  {
   "cell_type": "code",
   "execution_count": null,
   "id": "f9345c16",
   "metadata": {},
   "outputs": [],
   "source": []
  },
  {
   "cell_type": "code",
   "execution_count": null,
   "id": "c8a9b93c",
   "metadata": {},
   "outputs": [],
   "source": []
  },
  {
   "cell_type": "code",
   "execution_count": 24,
   "id": "821c6af2",
   "metadata": {},
   "outputs": [
    {
     "name": "stdout",
     "output_type": "stream",
     "text": [
      "png\n"
     ]
    }
   ],
   "source": [
    "mime_type, mime_subtype = mime_type.split('/', 1)\n",
    "print(mime_subtype)"
   ]
  },
  {
   "cell_type": "code",
   "execution_count": 25,
   "id": "ac2f3534",
   "metadata": {},
   "outputs": [
    {
     "name": "stderr",
     "output_type": "stream",
     "text": [
      "IOPub data rate exceeded.\n",
      "The notebook server will temporarily stop sending output\n",
      "to the client in order to avoid crashing it.\n",
      "To change this limit, set the config variable\n",
      "`--NotebookApp.iopub_data_rate_limit`.\n",
      "\n",
      "Current values:\n",
      "NotebookApp.iopub_data_rate_limit=1000000.0 (bytes/sec)\n",
      "NotebookApp.rate_limit_window=3.0 (secs)\n",
      "\n"
     ]
    }
   ],
   "source": [
    "with open(attachment_path, 'rb') as ap:\n",
    "    message.add_attachment(ap.read(),\n",
    "                          maintype=mime_type,\n",
    "                          subtype=mime_subtype,\n",
    "                          filename=os.path.basename(attachment_path))\n",
    "    \n",
    "print(message)    "
   ]
  },
  {
   "cell_type": "code",
   "execution_count": 26,
   "id": "b17fae5f",
   "metadata": {},
   "outputs": [],
   "source": [
    "import smtplib\n",
    "from email.mime.text import MIMEText\n",
    "from email.mime.multipart import MIMEMultipart\n",
    "mail_server = smtplib.SMTP_SSL('smtp.gmail.com')\n",
    "mail_server.set_debuglevel(1)"
   ]
  },
  {
   "cell_type": "code",
   "execution_count": 27,
   "id": "d0358eb8",
   "metadata": {},
   "outputs": [
    {
     "name": "stdout",
     "output_type": "stream",
     "text": [
      "Password? ········\n"
     ]
    }
   ],
   "source": [
    "import getpass\n",
    "mail_pass = getpass.getpass('Password? ')"
   ]
  },
  {
   "cell_type": "code",
   "execution_count": 28,
   "id": "2ba0e73f",
   "metadata": {},
   "outputs": [
    {
     "name": "stderr",
     "output_type": "stream",
     "text": [
      "send: 'ehlo DESKTOP-SJT7GVE.localdomain\\r\\n'\n",
      "reply: b'250-smtp.gmail.com at your service, [102.91.4.65]\\r\\n'\n",
      "reply: b'250-SIZE 35882577\\r\\n'\n",
      "reply: b'250-8BITMIME\\r\\n'\n",
      "reply: b'250-AUTH LOGIN PLAIN XOAUTH2 PLAIN-CLIENTTOKEN OAUTHBEARER XOAUTH\\r\\n'\n",
      "reply: b'250-ENHANCEDSTATUSCODES\\r\\n'\n",
      "reply: b'250-PIPELINING\\r\\n'\n",
      "reply: b'250-CHUNKING\\r\\n'\n",
      "reply: b'250 SMTPUTF8\\r\\n'\n",
      "reply: retcode (250); Msg: b'smtp.gmail.com at your service, [102.91.4.65]\\nSIZE 35882577\\n8BITMIME\\nAUTH LOGIN PLAIN XOAUTH2 PLAIN-CLIENTTOKEN OAUTHBEARER XOAUTH\\nENHANCEDSTATUSCODES\\nPIPELINING\\nCHUNKING\\nSMTPUTF8'\n",
      "send: 'AUTH PLAIN AGZlemVrYW5uYWdoYUBnbWFpbC5jb20AcWx3Y3d3ZmtsbmZxdmhseA==\\r\\n'\n",
      "reply: b'235 2.7.0 Accepted\\r\\n'\n",
      "reply: retcode (235); Msg: b'2.7.0 Accepted'\n"
     ]
    },
    {
     "data": {
      "text/plain": [
       "(235, b'2.7.0 Accepted')"
      ]
     },
     "execution_count": 28,
     "metadata": {},
     "output_type": "execute_result"
    }
   ],
   "source": [
    "mail_server.login(sender, mail_pass)"
   ]
  },
  {
   "cell_type": "code",
   "execution_count": 29,
   "id": "a9afeb1b",
   "metadata": {},
   "outputs": [
    {
     "name": "stderr",
     "output_type": "stream",
     "text": [
      "send: 'mail FROM:<fezekannagha@gmail.com> size=3949061\\r\\n'\n",
      "reply: b'250 2.1.0 OK t26-20020a1709066bda00b0096f6e2f4d9esm6109638ejs.83 - gsmtp\\r\\n'\n",
      "reply: retcode (250); Msg: b'2.1.0 OK t26-20020a1709066bda00b0096f6e2f4d9esm6109638ejs.83 - gsmtp'\n",
      "send: 'rcpt TO:<fezekannagha@gmail.com>\\r\\n'\n",
      "reply: b'250 2.1.5 OK t26-20020a1709066bda00b0096f6e2f4d9esm6109638ejs.83 - gsmtp\\r\\n'\n",
      "reply: retcode (250); Msg: b'2.1.5 OK t26-20020a1709066bda00b0096f6e2f4d9esm6109638ejs.83 - gsmtp'\n",
      "send: 'data\\r\\n'\n",
      "reply: b'354  Go ahead t26-20020a1709066bda00b0096f6e2f4d9esm6109638ejs.83 - gsmtp\\r\\n'\n",
      "reply: retcode (354); Msg: b'Go ahead t26-20020a1709066bda00b0096f6e2f4d9esm6109638ejs.83 - gsmtp'\n",
      "data: (354, b'Go ahead t26-20020a1709066bda00b0096f6e2f4d9esm6109638ejs.83 - gsmtp')\n",
      "IOPub data rate exceeded.\n",
      "The notebook server will temporarily stop sending output\n",
      "to the client in order to avoid crashing it.\n",
      "To change this limit, set the config variable\n",
      "`--NotebookApp.iopub_data_rate_limit`.\n",
      "\n",
      "Current values:\n",
      "NotebookApp.iopub_data_rate_limit=1000000.0 (bytes/sec)\n",
      "NotebookApp.rate_limit_window=3.0 (secs)\n",
      "\n",
      "reply: b'250 2.0.0 OK  1686096645 t26-20020a1709066bda00b0096f6e2f4d9esm6109638ejs.83 - gsmtp\\r\\n'\n",
      "reply: retcode (250); Msg: b'2.0.0 OK  1686096645 t26-20020a1709066bda00b0096f6e2f4d9esm6109638ejs.83 - gsmtp'\n",
      "data: (250, b'2.0.0 OK  1686096645 t26-20020a1709066bda00b0096f6e2f4d9esm6109638ejs.83 - gsmtp')\n"
     ]
    },
    {
     "data": {
      "text/plain": [
       "{}"
      ]
     },
     "execution_count": 29,
     "metadata": {},
     "output_type": "execute_result"
    }
   ],
   "source": [
    "mail_server.send_message(message)"
   ]
  },
  {
   "cell_type": "code",
   "execution_count": 30,
   "id": "57e503fa",
   "metadata": {},
   "outputs": [
    {
     "name": "stderr",
     "output_type": "stream",
     "text": [
      "send: 'quit\\r\\n'\n",
      "reply: b'221 2.0.0 closing connection t26-20020a1709066bda00b0096f6e2f4d9esm6109638ejs.83 - gsmtp\\r\\n'\n",
      "reply: retcode (221); Msg: b'2.0.0 closing connection t26-20020a1709066bda00b0096f6e2f4d9esm6109638ejs.83 - gsmtp'\n"
     ]
    },
    {
     "data": {
      "text/plain": [
       "(221,\n",
       " b'2.0.0 closing connection t26-20020a1709066bda00b0096f6e2f4d9esm6109638ejs.83 - gsmtp')"
      ]
     },
     "execution_count": 30,
     "metadata": {},
     "output_type": "execute_result"
    }
   ],
   "source": [
    "mail_server.quit()"
   ]
  },
  {
   "cell_type": "markdown",
   "id": "b1f8fc0b",
   "metadata": {},
   "source": [
    "## Introduction to Generating PDFs"
   ]
  },
  {
   "cell_type": "code",
   "execution_count": 31,
   "id": "fb687d7a",
   "metadata": {},
   "outputs": [],
   "source": [
    "fruit = {\n",
    "  \"elderberries\": 1,\n",
    "  \"figs\": 1,\n",
    "  \"apples\": 2,\n",
    "  \"durians\": 3,\n",
    "  \"bananas\": 5,\n",
    "  \"cherries\": 8,\n",
    "  \"grapes\": 13\n",
    "}\n"
   ]
  },
  {
   "cell_type": "code",
   "execution_count": 32,
   "id": "ca87a09a",
   "metadata": {},
   "outputs": [],
   "source": [
    "from reportlab.platypus import SimpleDocTemplate\n",
    "report = SimpleDocTemplate(\"report.pdf\")"
   ]
  },
  {
   "cell_type": "code",
   "execution_count": 33,
   "id": "6d650b38",
   "metadata": {},
   "outputs": [],
   "source": [
    "from reportlab.platypus import Paragraph, Spacer, Table, Image"
   ]
  },
  {
   "cell_type": "code",
   "execution_count": 34,
   "id": "2998dfbb",
   "metadata": {},
   "outputs": [],
   "source": [
    "from reportlab.lib.styles import getSampleStyleSheet\n",
    "styles = getSampleStyleSheet()"
   ]
  },
  {
   "cell_type": "code",
   "execution_count": 35,
   "id": "49b734f6",
   "metadata": {},
   "outputs": [],
   "source": [
    "report_title = Paragraph(\"A Complete Inventory of My Fruit\", styles[\"h1\"])"
   ]
  },
  {
   "cell_type": "code",
   "execution_count": 36,
   "id": "caa7de5f",
   "metadata": {},
   "outputs": [],
   "source": [
    "report.build([report_title])"
   ]
  },
  {
   "cell_type": "markdown",
   "id": "aab275ad",
   "metadata": {},
   "source": [
    "## Adding Tables to our PDFs"
   ]
  },
  {
   "cell_type": "code",
   "execution_count": 37,
   "id": "ad787832",
   "metadata": {},
   "outputs": [
    {
     "name": "stdout",
     "output_type": "stream",
     "text": [
      "[['elderberries', 1], ['figs', 1], ['apples', 2], ['durians', 3], ['bananas', 5], ['cherries', 8], ['grapes', 13]]\n"
     ]
    }
   ],
   "source": [
    "table_data = []\n",
    "for k,v in fruit.items():\n",
    "    table_data.append([k,v])\n",
    "    \n",
    "print(table_data)"
   ]
  },
  {
   "cell_type": "code",
   "execution_count": 38,
   "id": "0ca2948c",
   "metadata": {},
   "outputs": [],
   "source": [
    "report_table = Table(data=table_data)\n",
    "report.build([report_title, report_table])"
   ]
  },
  {
   "cell_type": "code",
   "execution_count": 40,
   "id": "ae9e69d9",
   "metadata": {},
   "outputs": [],
   "source": [
    "from reportlab.lib import colors\n",
    "table_style = [('GRID', (0,0), (-1,-1), 1, colors.black)]\n",
    "report_table = Table(data=table_data, style=table_style, hAlign=\"LEFT\")\n",
    "report.build([report_title, report_table])"
   ]
  },
  {
   "cell_type": "markdown",
   "id": "26ace157",
   "metadata": {},
   "source": [
    "## Adding Graphics to our PDFs"
   ]
  },
  {
   "cell_type": "code",
   "execution_count": 42,
   "id": "5bd88411",
   "metadata": {},
   "outputs": [],
   "source": [
    "from reportlab.lib.units import inch\n",
    "from reportlab.graphics.shapes import Drawing\n",
    "from reportlab.graphics.charts.piecharts import Pie\n",
    "report_pie = Pie(width=3*inch, height=3*inch)"
   ]
  },
  {
   "cell_type": "code",
   "execution_count": 43,
   "id": "721562c0",
   "metadata": {},
   "outputs": [
    {
     "name": "stdout",
     "output_type": "stream",
     "text": [
      "[2, 5, 8, 3, 1, 1, 13]\n"
     ]
    }
   ],
   "source": [
    "report_pie.data = []\n",
    "report_pie.labels = []\n",
    "for fruit_name in sorted(fruit):\n",
    "    report_pie.data.append(fruit[fruit_name])\n",
    "    report_pie.labels.append(fruit_name)\n",
    "\n",
    "print(report_pie.data)"
   ]
  },
  {
   "cell_type": "code",
   "execution_count": 44,
   "id": "1393683a",
   "metadata": {},
   "outputs": [
    {
     "name": "stdout",
     "output_type": "stream",
     "text": [
      "['apples', 'bananas', 'cherries', 'durians', 'elderberries', 'figs', 'grapes']\n"
     ]
    }
   ],
   "source": [
    "print(report_pie.labels)"
   ]
  },
  {
   "cell_type": "code",
   "execution_count": 45,
   "id": "fce15c81",
   "metadata": {},
   "outputs": [],
   "source": [
    "report_chart = Drawing()\n",
    "report_chart.add(report_pie)"
   ]
  },
  {
   "cell_type": "code",
   "execution_count": 46,
   "id": "ae97f1fa",
   "metadata": {},
   "outputs": [],
   "source": [
    "report.build([report_title, report_table, report_chart])"
   ]
  }
 ],
 "metadata": {
  "kernelspec": {
   "display_name": "Python 3 (ipykernel)",
   "language": "python",
   "name": "python3"
  },
  "language_info": {
   "codemirror_mode": {
    "name": "ipython",
    "version": 3
   },
   "file_extension": ".py",
   "mimetype": "text/x-python",
   "name": "python",
   "nbconvert_exporter": "python",
   "pygments_lexer": "ipython3",
   "version": "3.10.6"
  }
 },
 "nbformat": 4,
 "nbformat_minor": 5
}
